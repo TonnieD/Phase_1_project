{
 "cells": [
  {
   "cell_type": "markdown",
   "id": "32d4862e-7cea-4312-bb4a-f76350532f4e",
   "metadata": {},
   "source": [
    "# END OF PHASE ONE PROJECT"
   ]
  },
  {
   "cell_type": "markdown",
   "id": "ce1f342f-bbcd-4b17-9691-14dcb9e42841",
   "metadata": {},
   "source": [
    "At the end of phase one students are required to do a project and submit it to the TMs.\n",
    "The purpsoe of the project is to:\n",
    "- Gain hands on experience with what I have learned.\n",
    "- Re-enforce the concepts that I have learned.\n",
    "- Learn how to approach real-world data challenges.\n",
    "- Bulding and solidifying basic technical skills required as a data scientist"
   ]
  },
  {
   "cell_type": "markdown",
   "id": "76a3e4be-cf1a-4c71-ab51-693300bd375a",
   "metadata": {},
   "source": [
    "## INVESTIGATING AVIATION ACCIDENT TRENDS AND FACTORS"
   ]
  },
  {
   "cell_type": "markdown",
   "id": "364291ea-a479-4e48-895c-a251e66b9272",
   "metadata": {},
   "source": [
    "![Aviation accidents trend and factors](images/R.jpg)"
   ]
  },
  {
   "cell_type": "markdown",
   "id": "45aa1f44-5cc5-4832-97fc-5fed0d05b2ec",
   "metadata": {},
   "source": [
    "For this project I will be using data set form the NTSB aviation accident database which contains data about civil aviation accidents and selected incidents within the United States, its territories and possessions, and in international waters.\n",
    "\n",
    "\n",
    "\n",
    "## OBJECTIVES\n",
    "I will use the data to:\n",
    "- Investigate accidents trends based on various airlines over time\n",
    "- Try and find the leading cause of aviation accidents\n",
    "- Trends in aviation fatalities over the years\n",
    "- Recomend actions to help mitigate/prevent aviation accidents and incedents"
   ]
  },
  {
   "cell_type": "markdown",
   "id": "1c35cb5f-75e3-4e06-9413-71eeed926209",
   "metadata": {},
   "source": [
    "### Understanding the data\n",
    "This will involve loading the data and looking at how it is structured.\n",
    "\n",
    "#### Loading the data"
   ]
  },
  {
   "cell_type": "code",
   "execution_count": 7,
   "id": "967772fa-f00b-465e-94f3-057adbeded7f",
   "metadata": {},
   "outputs": [],
   "source": [
    "#importing all the necessary libraries and modules for this project.\n",
    "import pandas as pd\n",
    "import numpy as np\n",
    "import matplotlib.pyplot as plt\n",
    "import seaborn as sns\n",
    "\n",
    "#This is to plot the visualization graphs within this notebook\n",
    "%matplotlib inline "
   ]
  },
  {
   "cell_type": "code",
   "execution_count": 8,
   "id": "5ca91c82-3940-42bf-97e1-69e79958f37e",
   "metadata": {},
   "outputs": [
    {
     "data": {
      "text/html": [
       "<div>\n",
       "<style scoped>\n",
       "    .dataframe tbody tr th:only-of-type {\n",
       "        vertical-align: middle;\n",
       "    }\n",
       "\n",
       "    .dataframe tbody tr th {\n",
       "        vertical-align: top;\n",
       "    }\n",
       "\n",
       "    .dataframe thead th {\n",
       "        text-align: right;\n",
       "    }\n",
       "</style>\n",
       "<table border=\"1\" class=\"dataframe\">\n",
       "  <thead>\n",
       "    <tr style=\"text-align: right;\">\n",
       "      <th></th>\n",
       "      <th>Event.Id</th>\n",
       "      <th>Investigation.Type</th>\n",
       "      <th>Accident.Number</th>\n",
       "      <th>Event.Date</th>\n",
       "      <th>Location</th>\n",
       "      <th>Country</th>\n",
       "      <th>Latitude</th>\n",
       "      <th>Longitude</th>\n",
       "      <th>Airport.Code</th>\n",
       "      <th>Airport.Name</th>\n",
       "      <th>...</th>\n",
       "      <th>Purpose.of.flight</th>\n",
       "      <th>Air.carrier</th>\n",
       "      <th>Total.Fatal.Injuries</th>\n",
       "      <th>Total.Serious.Injuries</th>\n",
       "      <th>Total.Minor.Injuries</th>\n",
       "      <th>Total.Uninjured</th>\n",
       "      <th>Weather.Condition</th>\n",
       "      <th>Broad.phase.of.flight</th>\n",
       "      <th>Report.Status</th>\n",
       "      <th>Publication.Date</th>\n",
       "    </tr>\n",
       "  </thead>\n",
       "  <tbody>\n",
       "    <tr>\n",
       "      <th>0</th>\n",
       "      <td>20001218X45444</td>\n",
       "      <td>Accident</td>\n",
       "      <td>SEA87LA080</td>\n",
       "      <td>1948-10-24</td>\n",
       "      <td>MOOSE CREEK, ID</td>\n",
       "      <td>United States</td>\n",
       "      <td>NaN</td>\n",
       "      <td>NaN</td>\n",
       "      <td>NaN</td>\n",
       "      <td>NaN</td>\n",
       "      <td>...</td>\n",
       "      <td>Personal</td>\n",
       "      <td>NaN</td>\n",
       "      <td>2.0</td>\n",
       "      <td>0.0</td>\n",
       "      <td>0.0</td>\n",
       "      <td>0.0</td>\n",
       "      <td>UNK</td>\n",
       "      <td>Cruise</td>\n",
       "      <td>Probable Cause</td>\n",
       "      <td>NaN</td>\n",
       "    </tr>\n",
       "    <tr>\n",
       "      <th>1</th>\n",
       "      <td>20001218X45447</td>\n",
       "      <td>Accident</td>\n",
       "      <td>LAX94LA336</td>\n",
       "      <td>1962-07-19</td>\n",
       "      <td>BRIDGEPORT, CA</td>\n",
       "      <td>United States</td>\n",
       "      <td>NaN</td>\n",
       "      <td>NaN</td>\n",
       "      <td>NaN</td>\n",
       "      <td>NaN</td>\n",
       "      <td>...</td>\n",
       "      <td>Personal</td>\n",
       "      <td>NaN</td>\n",
       "      <td>4.0</td>\n",
       "      <td>0.0</td>\n",
       "      <td>0.0</td>\n",
       "      <td>0.0</td>\n",
       "      <td>UNK</td>\n",
       "      <td>Unknown</td>\n",
       "      <td>Probable Cause</td>\n",
       "      <td>19-09-1996</td>\n",
       "    </tr>\n",
       "    <tr>\n",
       "      <th>2</th>\n",
       "      <td>20061025X01555</td>\n",
       "      <td>Accident</td>\n",
       "      <td>NYC07LA005</td>\n",
       "      <td>1974-08-30</td>\n",
       "      <td>Saltville, VA</td>\n",
       "      <td>United States</td>\n",
       "      <td>36.922223</td>\n",
       "      <td>-81.878056</td>\n",
       "      <td>NaN</td>\n",
       "      <td>NaN</td>\n",
       "      <td>...</td>\n",
       "      <td>Personal</td>\n",
       "      <td>NaN</td>\n",
       "      <td>3.0</td>\n",
       "      <td>NaN</td>\n",
       "      <td>NaN</td>\n",
       "      <td>NaN</td>\n",
       "      <td>IMC</td>\n",
       "      <td>Cruise</td>\n",
       "      <td>Probable Cause</td>\n",
       "      <td>26-02-2007</td>\n",
       "    </tr>\n",
       "    <tr>\n",
       "      <th>3</th>\n",
       "      <td>20001218X45448</td>\n",
       "      <td>Accident</td>\n",
       "      <td>LAX96LA321</td>\n",
       "      <td>1977-06-19</td>\n",
       "      <td>EUREKA, CA</td>\n",
       "      <td>United States</td>\n",
       "      <td>NaN</td>\n",
       "      <td>NaN</td>\n",
       "      <td>NaN</td>\n",
       "      <td>NaN</td>\n",
       "      <td>...</td>\n",
       "      <td>Personal</td>\n",
       "      <td>NaN</td>\n",
       "      <td>2.0</td>\n",
       "      <td>0.0</td>\n",
       "      <td>0.0</td>\n",
       "      <td>0.0</td>\n",
       "      <td>IMC</td>\n",
       "      <td>Cruise</td>\n",
       "      <td>Probable Cause</td>\n",
       "      <td>12-09-2000</td>\n",
       "    </tr>\n",
       "    <tr>\n",
       "      <th>4</th>\n",
       "      <td>20041105X01764</td>\n",
       "      <td>Accident</td>\n",
       "      <td>CHI79FA064</td>\n",
       "      <td>1979-08-02</td>\n",
       "      <td>Canton, OH</td>\n",
       "      <td>United States</td>\n",
       "      <td>NaN</td>\n",
       "      <td>NaN</td>\n",
       "      <td>NaN</td>\n",
       "      <td>NaN</td>\n",
       "      <td>...</td>\n",
       "      <td>Personal</td>\n",
       "      <td>NaN</td>\n",
       "      <td>1.0</td>\n",
       "      <td>2.0</td>\n",
       "      <td>NaN</td>\n",
       "      <td>0.0</td>\n",
       "      <td>VMC</td>\n",
       "      <td>Approach</td>\n",
       "      <td>Probable Cause</td>\n",
       "      <td>16-04-1980</td>\n",
       "    </tr>\n",
       "    <tr>\n",
       "      <th>...</th>\n",
       "      <td>...</td>\n",
       "      <td>...</td>\n",
       "      <td>...</td>\n",
       "      <td>...</td>\n",
       "      <td>...</td>\n",
       "      <td>...</td>\n",
       "      <td>...</td>\n",
       "      <td>...</td>\n",
       "      <td>...</td>\n",
       "      <td>...</td>\n",
       "      <td>...</td>\n",
       "      <td>...</td>\n",
       "      <td>...</td>\n",
       "      <td>...</td>\n",
       "      <td>...</td>\n",
       "      <td>...</td>\n",
       "      <td>...</td>\n",
       "      <td>...</td>\n",
       "      <td>...</td>\n",
       "      <td>...</td>\n",
       "      <td>...</td>\n",
       "    </tr>\n",
       "    <tr>\n",
       "      <th>88884</th>\n",
       "      <td>20221227106491</td>\n",
       "      <td>Accident</td>\n",
       "      <td>ERA23LA093</td>\n",
       "      <td>2022-12-26</td>\n",
       "      <td>Annapolis, MD</td>\n",
       "      <td>United States</td>\n",
       "      <td>NaN</td>\n",
       "      <td>NaN</td>\n",
       "      <td>NaN</td>\n",
       "      <td>NaN</td>\n",
       "      <td>...</td>\n",
       "      <td>Personal</td>\n",
       "      <td>NaN</td>\n",
       "      <td>0.0</td>\n",
       "      <td>1.0</td>\n",
       "      <td>0.0</td>\n",
       "      <td>0.0</td>\n",
       "      <td>NaN</td>\n",
       "      <td>NaN</td>\n",
       "      <td>NaN</td>\n",
       "      <td>29-12-2022</td>\n",
       "    </tr>\n",
       "    <tr>\n",
       "      <th>88885</th>\n",
       "      <td>20221227106494</td>\n",
       "      <td>Accident</td>\n",
       "      <td>ERA23LA095</td>\n",
       "      <td>2022-12-26</td>\n",
       "      <td>Hampton, NH</td>\n",
       "      <td>United States</td>\n",
       "      <td>NaN</td>\n",
       "      <td>NaN</td>\n",
       "      <td>NaN</td>\n",
       "      <td>NaN</td>\n",
       "      <td>...</td>\n",
       "      <td>NaN</td>\n",
       "      <td>NaN</td>\n",
       "      <td>0.0</td>\n",
       "      <td>0.0</td>\n",
       "      <td>0.0</td>\n",
       "      <td>0.0</td>\n",
       "      <td>NaN</td>\n",
       "      <td>NaN</td>\n",
       "      <td>NaN</td>\n",
       "      <td>NaN</td>\n",
       "    </tr>\n",
       "    <tr>\n",
       "      <th>88886</th>\n",
       "      <td>20221227106497</td>\n",
       "      <td>Accident</td>\n",
       "      <td>WPR23LA075</td>\n",
       "      <td>2022-12-26</td>\n",
       "      <td>Payson, AZ</td>\n",
       "      <td>United States</td>\n",
       "      <td>341525N</td>\n",
       "      <td>1112021W</td>\n",
       "      <td>PAN</td>\n",
       "      <td>PAYSON</td>\n",
       "      <td>...</td>\n",
       "      <td>Personal</td>\n",
       "      <td>NaN</td>\n",
       "      <td>0.0</td>\n",
       "      <td>0.0</td>\n",
       "      <td>0.0</td>\n",
       "      <td>1.0</td>\n",
       "      <td>VMC</td>\n",
       "      <td>NaN</td>\n",
       "      <td>NaN</td>\n",
       "      <td>27-12-2022</td>\n",
       "    </tr>\n",
       "    <tr>\n",
       "      <th>88887</th>\n",
       "      <td>20221227106498</td>\n",
       "      <td>Accident</td>\n",
       "      <td>WPR23LA076</td>\n",
       "      <td>2022-12-26</td>\n",
       "      <td>Morgan, UT</td>\n",
       "      <td>United States</td>\n",
       "      <td>NaN</td>\n",
       "      <td>NaN</td>\n",
       "      <td>NaN</td>\n",
       "      <td>NaN</td>\n",
       "      <td>...</td>\n",
       "      <td>Personal</td>\n",
       "      <td>MC CESSNA 210N LLC</td>\n",
       "      <td>0.0</td>\n",
       "      <td>0.0</td>\n",
       "      <td>0.0</td>\n",
       "      <td>0.0</td>\n",
       "      <td>NaN</td>\n",
       "      <td>NaN</td>\n",
       "      <td>NaN</td>\n",
       "      <td>NaN</td>\n",
       "    </tr>\n",
       "    <tr>\n",
       "      <th>88888</th>\n",
       "      <td>20221230106513</td>\n",
       "      <td>Accident</td>\n",
       "      <td>ERA23LA097</td>\n",
       "      <td>2022-12-29</td>\n",
       "      <td>Athens, GA</td>\n",
       "      <td>United States</td>\n",
       "      <td>NaN</td>\n",
       "      <td>NaN</td>\n",
       "      <td>NaN</td>\n",
       "      <td>NaN</td>\n",
       "      <td>...</td>\n",
       "      <td>Personal</td>\n",
       "      <td>NaN</td>\n",
       "      <td>0.0</td>\n",
       "      <td>1.0</td>\n",
       "      <td>0.0</td>\n",
       "      <td>1.0</td>\n",
       "      <td>NaN</td>\n",
       "      <td>NaN</td>\n",
       "      <td>NaN</td>\n",
       "      <td>30-12-2022</td>\n",
       "    </tr>\n",
       "  </tbody>\n",
       "</table>\n",
       "<p>88889 rows × 31 columns</p>\n",
       "</div>"
      ],
      "text/plain": [
       "             Event.Id Investigation.Type Accident.Number  Event.Date  \\\n",
       "0      20001218X45444           Accident      SEA87LA080  1948-10-24   \n",
       "1      20001218X45447           Accident      LAX94LA336  1962-07-19   \n",
       "2      20061025X01555           Accident      NYC07LA005  1974-08-30   \n",
       "3      20001218X45448           Accident      LAX96LA321  1977-06-19   \n",
       "4      20041105X01764           Accident      CHI79FA064  1979-08-02   \n",
       "...               ...                ...             ...         ...   \n",
       "88884  20221227106491           Accident      ERA23LA093  2022-12-26   \n",
       "88885  20221227106494           Accident      ERA23LA095  2022-12-26   \n",
       "88886  20221227106497           Accident      WPR23LA075  2022-12-26   \n",
       "88887  20221227106498           Accident      WPR23LA076  2022-12-26   \n",
       "88888  20221230106513           Accident      ERA23LA097  2022-12-29   \n",
       "\n",
       "              Location        Country   Latitude   Longitude Airport.Code  \\\n",
       "0      MOOSE CREEK, ID  United States        NaN         NaN          NaN   \n",
       "1       BRIDGEPORT, CA  United States        NaN         NaN          NaN   \n",
       "2        Saltville, VA  United States  36.922223  -81.878056          NaN   \n",
       "3           EUREKA, CA  United States        NaN         NaN          NaN   \n",
       "4           Canton, OH  United States        NaN         NaN          NaN   \n",
       "...                ...            ...        ...         ...          ...   \n",
       "88884    Annapolis, MD  United States        NaN         NaN          NaN   \n",
       "88885      Hampton, NH  United States        NaN         NaN          NaN   \n",
       "88886       Payson, AZ  United States    341525N    1112021W          PAN   \n",
       "88887       Morgan, UT  United States        NaN         NaN          NaN   \n",
       "88888       Athens, GA  United States        NaN         NaN          NaN   \n",
       "\n",
       "      Airport.Name  ... Purpose.of.flight         Air.carrier  \\\n",
       "0              NaN  ...          Personal                 NaN   \n",
       "1              NaN  ...          Personal                 NaN   \n",
       "2              NaN  ...          Personal                 NaN   \n",
       "3              NaN  ...          Personal                 NaN   \n",
       "4              NaN  ...          Personal                 NaN   \n",
       "...            ...  ...               ...                 ...   \n",
       "88884          NaN  ...          Personal                 NaN   \n",
       "88885          NaN  ...               NaN                 NaN   \n",
       "88886       PAYSON  ...          Personal                 NaN   \n",
       "88887          NaN  ...          Personal  MC CESSNA 210N LLC   \n",
       "88888          NaN  ...          Personal                 NaN   \n",
       "\n",
       "      Total.Fatal.Injuries Total.Serious.Injuries Total.Minor.Injuries  \\\n",
       "0                      2.0                    0.0                  0.0   \n",
       "1                      4.0                    0.0                  0.0   \n",
       "2                      3.0                    NaN                  NaN   \n",
       "3                      2.0                    0.0                  0.0   \n",
       "4                      1.0                    2.0                  NaN   \n",
       "...                    ...                    ...                  ...   \n",
       "88884                  0.0                    1.0                  0.0   \n",
       "88885                  0.0                    0.0                  0.0   \n",
       "88886                  0.0                    0.0                  0.0   \n",
       "88887                  0.0                    0.0                  0.0   \n",
       "88888                  0.0                    1.0                  0.0   \n",
       "\n",
       "      Total.Uninjured Weather.Condition  Broad.phase.of.flight  \\\n",
       "0                 0.0               UNK                 Cruise   \n",
       "1                 0.0               UNK                Unknown   \n",
       "2                 NaN               IMC                 Cruise   \n",
       "3                 0.0               IMC                 Cruise   \n",
       "4                 0.0               VMC               Approach   \n",
       "...               ...               ...                    ...   \n",
       "88884             0.0               NaN                    NaN   \n",
       "88885             0.0               NaN                    NaN   \n",
       "88886             1.0               VMC                    NaN   \n",
       "88887             0.0               NaN                    NaN   \n",
       "88888             1.0               NaN                    NaN   \n",
       "\n",
       "        Report.Status Publication.Date  \n",
       "0      Probable Cause              NaN  \n",
       "1      Probable Cause       19-09-1996  \n",
       "2      Probable Cause       26-02-2007  \n",
       "3      Probable Cause       12-09-2000  \n",
       "4      Probable Cause       16-04-1980  \n",
       "...               ...              ...  \n",
       "88884             NaN       29-12-2022  \n",
       "88885             NaN              NaN  \n",
       "88886             NaN       27-12-2022  \n",
       "88887             NaN              NaN  \n",
       "88888             NaN       30-12-2022  \n",
       "\n",
       "[88889 rows x 31 columns]"
      ]
     },
     "execution_count": 8,
     "metadata": {},
     "output_type": "execute_result"
    }
   ],
   "source": [
    "# Now we can load the data 'AviationData.csv' onto the notebook\n",
    "df = pd.read_csv('Data Sets\\AviationData.csv', encoding = 'Latin1', low_memory= False)\n",
    "df\n",
    "#The 'low_memory=False' parameter is to prevent pandas from reading the file in chunks since it is too large."
   ]
  },
  {
   "cell_type": "markdown",
   "id": "78a1fd7e-ad00-44f8-b3b9-df9e734aea1f",
   "metadata": {},
   "source": [
    "We can now look at how the data i structured."
   ]
  },
  {
   "cell_type": "code",
   "execution_count": 10,
   "id": "02a187ac-3034-4482-bd87-34a3456ceac5",
   "metadata": {},
   "outputs": [
    {
     "data": {
      "text/plain": [
       "(88889, 31)"
      ]
     },
     "execution_count": 10,
     "metadata": {},
     "output_type": "execute_result"
    }
   ],
   "source": [
    "df.shape\n",
    "#This tells us the the number of rows is 88889 and that of columns is 33"
   ]
  },
  {
   "cell_type": "code",
   "execution_count": 11,
   "id": "64c5e037-ea14-4336-ba66-cf91d8da9c58",
   "metadata": {},
   "outputs": [
    {
     "data": {
      "text/plain": [
       "Index(['Event.Id', 'Investigation.Type', 'Accident.Number', 'Event.Date',\n",
       "       'Location', 'Country', 'Latitude', 'Longitude', 'Airport.Code',\n",
       "       'Airport.Name', 'Injury.Severity', 'Aircraft.damage',\n",
       "       'Aircraft.Category', 'Registration.Number', 'Make', 'Model',\n",
       "       'Amateur.Built', 'Number.of.Engines', 'Engine.Type', 'FAR.Description',\n",
       "       'Schedule', 'Purpose.of.flight', 'Air.carrier', 'Total.Fatal.Injuries',\n",
       "       'Total.Serious.Injuries', 'Total.Minor.Injuries', 'Total.Uninjured',\n",
       "       'Weather.Condition', 'Broad.phase.of.flight', 'Report.Status',\n",
       "       'Publication.Date'],\n",
       "      dtype='object')"
      ]
     },
     "execution_count": 11,
     "metadata": {},
     "output_type": "execute_result"
    }
   ],
   "source": [
    "#Getting the column names\n",
    "df.columns"
   ]
  },
  {
   "cell_type": "code",
   "execution_count": 12,
   "id": "734ad17d-5755-46b9-bf43-9e22e20c93cd",
   "metadata": {},
   "outputs": [
    {
     "name": "stdout",
     "output_type": "stream",
     "text": [
      "<class 'pandas.core.frame.DataFrame'>\n",
      "RangeIndex: 88889 entries, 0 to 88888\n",
      "Data columns (total 31 columns):\n",
      " #   Column                  Non-Null Count  Dtype  \n",
      "---  ------                  --------------  -----  \n",
      " 0   Event.Id                88889 non-null  object \n",
      " 1   Investigation.Type      88889 non-null  object \n",
      " 2   Accident.Number         88889 non-null  object \n",
      " 3   Event.Date              88889 non-null  object \n",
      " 4   Location                88837 non-null  object \n",
      " 5   Country                 88663 non-null  object \n",
      " 6   Latitude                34382 non-null  object \n",
      " 7   Longitude               34373 non-null  object \n",
      " 8   Airport.Code            50132 non-null  object \n",
      " 9   Airport.Name            52704 non-null  object \n",
      " 10  Injury.Severity         87889 non-null  object \n",
      " 11  Aircraft.damage         85695 non-null  object \n",
      " 12  Aircraft.Category       32287 non-null  object \n",
      " 13  Registration.Number     87507 non-null  object \n",
      " 14  Make                    88826 non-null  object \n",
      " 15  Model                   88797 non-null  object \n",
      " 16  Amateur.Built           88787 non-null  object \n",
      " 17  Number.of.Engines       82805 non-null  float64\n",
      " 18  Engine.Type             81793 non-null  object \n",
      " 19  FAR.Description         32023 non-null  object \n",
      " 20  Schedule                12582 non-null  object \n",
      " 21  Purpose.of.flight       82697 non-null  object \n",
      " 22  Air.carrier             16648 non-null  object \n",
      " 23  Total.Fatal.Injuries    77488 non-null  float64\n",
      " 24  Total.Serious.Injuries  76379 non-null  float64\n",
      " 25  Total.Minor.Injuries    76956 non-null  float64\n",
      " 26  Total.Uninjured         82977 non-null  float64\n",
      " 27  Weather.Condition       84397 non-null  object \n",
      " 28  Broad.phase.of.flight   61724 non-null  object \n",
      " 29  Report.Status           82505 non-null  object \n",
      " 30  Publication.Date        75118 non-null  object \n",
      "dtypes: float64(5), object(26)\n",
      "memory usage: 21.0+ MB\n"
     ]
    }
   ],
   "source": [
    "#Getting the generlized information of our data set\n",
    "df.info()"
   ]
  },
  {
   "cell_type": "markdown",
   "id": "b655e6c4-7b0d-4390-a25c-403b30e06002",
   "metadata": {},
   "source": [
    "We can see that alot of our data are cartegorical data with only 5 columns with numerical data"
   ]
  },
  {
   "cell_type": "markdown",
   "id": "e231958a-9381-4dce-96ba-c8febbe3fd1a",
   "metadata": {},
   "source": [
    "Lets look at our numerical data summary"
   ]
  },
  {
   "cell_type": "code",
   "execution_count": 15,
   "id": "9ce52b26-7c09-4f33-bc10-4ae80cd84337",
   "metadata": {},
   "outputs": [
    {
     "data": {
      "text/html": [
       "<div>\n",
       "<style scoped>\n",
       "    .dataframe tbody tr th:only-of-type {\n",
       "        vertical-align: middle;\n",
       "    }\n",
       "\n",
       "    .dataframe tbody tr th {\n",
       "        vertical-align: top;\n",
       "    }\n",
       "\n",
       "    .dataframe thead th {\n",
       "        text-align: right;\n",
       "    }\n",
       "</style>\n",
       "<table border=\"1\" class=\"dataframe\">\n",
       "  <thead>\n",
       "    <tr style=\"text-align: right;\">\n",
       "      <th></th>\n",
       "      <th>Number.of.Engines</th>\n",
       "      <th>Total.Fatal.Injuries</th>\n",
       "      <th>Total.Serious.Injuries</th>\n",
       "      <th>Total.Minor.Injuries</th>\n",
       "      <th>Total.Uninjured</th>\n",
       "    </tr>\n",
       "  </thead>\n",
       "  <tbody>\n",
       "    <tr>\n",
       "      <th>count</th>\n",
       "      <td>82805.000000</td>\n",
       "      <td>77488.000000</td>\n",
       "      <td>76379.000000</td>\n",
       "      <td>76956.000000</td>\n",
       "      <td>82977.000000</td>\n",
       "    </tr>\n",
       "    <tr>\n",
       "      <th>mean</th>\n",
       "      <td>1.146585</td>\n",
       "      <td>0.647855</td>\n",
       "      <td>0.279881</td>\n",
       "      <td>0.357061</td>\n",
       "      <td>5.325440</td>\n",
       "    </tr>\n",
       "    <tr>\n",
       "      <th>std</th>\n",
       "      <td>0.446510</td>\n",
       "      <td>5.485960</td>\n",
       "      <td>1.544084</td>\n",
       "      <td>2.235625</td>\n",
       "      <td>27.913634</td>\n",
       "    </tr>\n",
       "    <tr>\n",
       "      <th>min</th>\n",
       "      <td>0.000000</td>\n",
       "      <td>0.000000</td>\n",
       "      <td>0.000000</td>\n",
       "      <td>0.000000</td>\n",
       "      <td>0.000000</td>\n",
       "    </tr>\n",
       "    <tr>\n",
       "      <th>25%</th>\n",
       "      <td>1.000000</td>\n",
       "      <td>0.000000</td>\n",
       "      <td>0.000000</td>\n",
       "      <td>0.000000</td>\n",
       "      <td>0.000000</td>\n",
       "    </tr>\n",
       "    <tr>\n",
       "      <th>50%</th>\n",
       "      <td>1.000000</td>\n",
       "      <td>0.000000</td>\n",
       "      <td>0.000000</td>\n",
       "      <td>0.000000</td>\n",
       "      <td>1.000000</td>\n",
       "    </tr>\n",
       "    <tr>\n",
       "      <th>75%</th>\n",
       "      <td>1.000000</td>\n",
       "      <td>0.000000</td>\n",
       "      <td>0.000000</td>\n",
       "      <td>0.000000</td>\n",
       "      <td>2.000000</td>\n",
       "    </tr>\n",
       "    <tr>\n",
       "      <th>max</th>\n",
       "      <td>8.000000</td>\n",
       "      <td>349.000000</td>\n",
       "      <td>161.000000</td>\n",
       "      <td>380.000000</td>\n",
       "      <td>699.000000</td>\n",
       "    </tr>\n",
       "  </tbody>\n",
       "</table>\n",
       "</div>"
      ],
      "text/plain": [
       "       Number.of.Engines  Total.Fatal.Injuries  Total.Serious.Injuries  \\\n",
       "count       82805.000000          77488.000000            76379.000000   \n",
       "mean            1.146585              0.647855                0.279881   \n",
       "std             0.446510              5.485960                1.544084   \n",
       "min             0.000000              0.000000                0.000000   \n",
       "25%             1.000000              0.000000                0.000000   \n",
       "50%             1.000000              0.000000                0.000000   \n",
       "75%             1.000000              0.000000                0.000000   \n",
       "max             8.000000            349.000000              161.000000   \n",
       "\n",
       "       Total.Minor.Injuries  Total.Uninjured  \n",
       "count          76956.000000     82977.000000  \n",
       "mean               0.357061         5.325440  \n",
       "std                2.235625        27.913634  \n",
       "min                0.000000         0.000000  \n",
       "25%                0.000000         0.000000  \n",
       "50%                0.000000         1.000000  \n",
       "75%                0.000000         2.000000  \n",
       "max              380.000000       699.000000  "
      ]
     },
     "execution_count": 15,
     "metadata": {},
     "output_type": "execute_result"
    }
   ],
   "source": [
    "df.describe()\n",
    "#Gives a brief summary of all numerical columns data"
   ]
  },
  {
   "cell_type": "markdown",
   "id": "2428d3fa-15b2-4ccc-8094-018458e6a482",
   "metadata": {},
   "source": [
    "### Data Preparation\n",
    "\n",
    "This will involve cleaning the data and preparing for data analysis.\n",
    "- This will help remove/fill null data dependig on how it will affect the data analysis\n",
    "- Checking and removing duplicates\n",
    "- Changing and correcting data types in the data set if need be\n",
    "- Creating new meaning full fetres if need be\n",
    "- Droping unnecessary columns"
   ]
  },
  {
   "cell_type": "markdown",
   "id": "c437baf8-cc43-405b-926b-173af55a0ed5",
   "metadata": {},
   "source": [
    "#### DATA CLEANING\n",
    "\n",
    "##### DUPLICATES\n",
    "\n",
    "First we will checck if the data contains any dupplicates"
   ]
  },
  {
   "cell_type": "code",
   "execution_count": 18,
   "id": "f993abd5-45a2-45bb-a6d6-e6548ee2d884",
   "metadata": {},
   "outputs": [
    {
     "data": {
      "text/plain": [
       "0"
      ]
     },
     "execution_count": 18,
     "metadata": {},
     "output_type": "execute_result"
    }
   ],
   "source": [
    "df.duplicated().sum()\n",
    "#This will check for the total count of duplicated entries"
   ]
  },
  {
   "cell_type": "markdown",
   "id": "ad535029-eef3-4014-8296-6ebbb9e94c34",
   "metadata": {},
   "source": [
    "Since the count was found to be zerro tht means that the data set did not contain any dupplicated entries.\n",
    "\n",
    "##### EMPTY/NULL VALUES"
   ]
  },
  {
   "cell_type": "markdown",
   "id": "bdaf23e4-9d90-400a-ae5f-d8865f5eceeb",
   "metadata": {},
   "source": [
    "We first get the total nummber of null values in each column"
   ]
  },
  {
   "cell_type": "code",
   "execution_count": 21,
   "id": "9ab12069-3210-4fc9-a7b1-dc34d92b6e54",
   "metadata": {},
   "outputs": [
    {
     "data": {
      "text/plain": [
       "Event.Id                      0\n",
       "Investigation.Type            0\n",
       "Accident.Number               0\n",
       "Event.Date                    0\n",
       "Location                     52\n",
       "Country                     226\n",
       "Latitude                  54507\n",
       "Longitude                 54516\n",
       "Airport.Code              38757\n",
       "Airport.Name              36185\n",
       "Injury.Severity            1000\n",
       "Aircraft.damage            3194\n",
       "Aircraft.Category         56602\n",
       "Registration.Number        1382\n",
       "Make                         63\n",
       "Model                        92\n",
       "Amateur.Built               102\n",
       "Number.of.Engines          6084\n",
       "Engine.Type                7096\n",
       "FAR.Description           56866\n",
       "Schedule                  76307\n",
       "Purpose.of.flight          6192\n",
       "Air.carrier               72241\n",
       "Total.Fatal.Injuries      11401\n",
       "Total.Serious.Injuries    12510\n",
       "Total.Minor.Injuries      11933\n",
       "Total.Uninjured            5912\n",
       "Weather.Condition          4492\n",
       "Broad.phase.of.flight     27165\n",
       "Report.Status              6384\n",
       "Publication.Date          13771\n",
       "dtype: int64"
      ]
     },
     "execution_count": 21,
     "metadata": {},
     "output_type": "execute_result"
    }
   ],
   "source": [
    "df.isnull().sum()\n",
    "#Tells us how many missing data entries are in the data set"
   ]
  },
  {
   "cell_type": "markdown",
   "id": "8b1af729-b869-4f2d-8fa5-84a8c6084bbb",
   "metadata": {},
   "source": [
    "- Scince our data has got over 88,000 entries its very dificult to see if the missing values constitute\n",
    "a large potion or not.\n",
    "- The best way to find this is findind the percentage of the missing data and deciding whether to drop \n",
    "the whole column a row or filling the mising data"
   ]
  },
  {
   "cell_type": "code",
   "execution_count": 23,
   "id": "98c06fe2-03f4-43ea-9b32-1b8f561fd436",
   "metadata": {},
   "outputs": [
    {
     "data": {
      "text/plain": [
       "Event.Id                   0.000000\n",
       "Investigation.Type         0.000000\n",
       "Accident.Number            0.000000\n",
       "Event.Date                 0.000000\n",
       "Location                   0.058500\n",
       "Country                    0.254250\n",
       "Latitude                  61.320298\n",
       "Longitude                 61.330423\n",
       "Airport.Code              43.601570\n",
       "Airport.Name              40.708074\n",
       "Injury.Severity            1.124999\n",
       "Aircraft.damage            3.593246\n",
       "Aircraft.Category         63.677170\n",
       "Registration.Number        1.554748\n",
       "Make                       0.070875\n",
       "Model                      0.103500\n",
       "Amateur.Built              0.114750\n",
       "Number.of.Engines          6.844491\n",
       "Engine.Type                7.982990\n",
       "FAR.Description           63.974170\n",
       "Schedule                  85.845268\n",
       "Purpose.of.flight          6.965991\n",
       "Air.carrier               81.271023\n",
       "Total.Fatal.Injuries      12.826109\n",
       "Total.Serious.Injuries    14.073732\n",
       "Total.Minor.Injuries      13.424608\n",
       "Total.Uninjured            6.650992\n",
       "Weather.Condition          5.053494\n",
       "Broad.phase.of.flight     30.560587\n",
       "Report.Status              7.181991\n",
       "Publication.Date          15.492356\n",
       "dtype: float64"
      ]
     },
     "execution_count": 23,
     "metadata": {},
     "output_type": "execute_result"
    }
   ],
   "source": [
    "#first get the percentag of the missing data\n",
    "na_perc = (df.isna().sum() / len(df)) * 100\n",
    "na_perc"
   ]
  },
  {
   "cell_type": "markdown",
   "id": "06ae898c-6da0-4374-ad9f-400b9183a7d0",
   "metadata": {},
   "source": [
    "Looking at the output of the code above we can see that there are columns such as 'Schedule' which has over 80%\n",
    "of its data missing. For data where the percentage of missing values is that big its better to drop the column as a whole."
   ]
  },
  {
   "cell_type": "code",
   "execution_count": 25,
   "id": "6f4aea56-1c60-4a35-859e-cffe23adc372",
   "metadata": {},
   "outputs": [],
   "source": [
    "#Droping columns that have avobe 50% of missng data\n",
    "drp_cols = na_perc[na_perc > 50].index\n",
    "df = df.drop(columns = drp_cols)"
   ]
  },
  {
   "cell_type": "code",
   "execution_count": 26,
   "id": "fbb3399d-4157-4e0a-b579-de79f18796fd",
   "metadata": {},
   "outputs": [
    {
     "data": {
      "text/plain": [
       "(88889, 25)"
      ]
     },
     "execution_count": 26,
     "metadata": {},
     "output_type": "execute_result"
    }
   ],
   "source": [
    "#confirm 6 columns have been droped\n",
    "df.shape"
   ]
  },
  {
   "cell_type": "code",
   "execution_count": 27,
   "id": "493a42e0-f387-41aa-8a3a-9c98b50ad328",
   "metadata": {},
   "outputs": [
    {
     "data": {
      "text/plain": [
       "Event.Id                      0\n",
       "Investigation.Type            0\n",
       "Accident.Number               0\n",
       "Event.Date                    0\n",
       "Location                     52\n",
       "Country                     226\n",
       "Airport.Code              38757\n",
       "Airport.Name              36185\n",
       "Injury.Severity            1000\n",
       "Aircraft.damage            3194\n",
       "Registration.Number        1382\n",
       "Make                         63\n",
       "Model                        92\n",
       "Amateur.Built               102\n",
       "Number.of.Engines          6084\n",
       "Engine.Type                7096\n",
       "Purpose.of.flight          6192\n",
       "Total.Fatal.Injuries      11401\n",
       "Total.Serious.Injuries    12510\n",
       "Total.Minor.Injuries      11933\n",
       "Total.Uninjured            5912\n",
       "Weather.Condition          4492\n",
       "Broad.phase.of.flight     27165\n",
       "Report.Status              6384\n",
       "Publication.Date          13771\n",
       "dtype: int64"
      ]
     },
     "execution_count": 27,
     "metadata": {},
     "output_type": "execute_result"
    }
   ],
   "source": [
    "df.isna().sum()"
   ]
  },
  {
   "cell_type": "markdown",
   "id": "ef175075-671e-4e14-acaf-6512179a66a2",
   "metadata": {},
   "source": [
    "Now we can drop all columns that we won't be using so as to remain with essential columns for our objectives"
   ]
  },
  {
   "cell_type": "markdown",
   "id": "1ba0d1cd-b210-4845-9c13-7f3adc845303",
   "metadata": {},
   "source": [
    "I have decided to drop Airport.Code, Airport.Name, Report.Status, Weather.Condition, Purpose.of.flight, Registration.Number\n"
   ]
  },
  {
   "cell_type": "code",
   "execution_count": 30,
   "id": "a4d8b2f9-db4d-4dcd-80d7-300cc219794d",
   "metadata": {},
   "outputs": [
    {
     "data": {
      "text/plain": [
       "(88889, 19)"
      ]
     },
     "execution_count": 30,
     "metadata": {},
     "output_type": "execute_result"
    }
   ],
   "source": [
    "df = df.drop(columns = ['Airport.Code', 'Airport.Name', 'Report.Status', 'Weather.Condition', 'Purpose.of.flight', 'Registration.Number'])\n",
    "#After droping confirm using .shape method\n",
    "df.shape"
   ]
  },
  {
   "cell_type": "markdown",
   "id": "1651ba0b-0d27-4fa7-beb1-615b8657964c",
   "metadata": {},
   "source": [
    "Looking at the remaing columns we can use them to derive information but still left with cleaning afew data by either droping rows or by filling the missing data.\n",
    "\n",
    "We can fill all missing numericl values befor we drop the rows"
   ]
  },
  {
   "cell_type": "markdown",
   "id": "611a7d80-84d5-479e-b8f9-8f32bbd8bfe9",
   "metadata": {},
   "source": [
    "##### FILLNG DATA USING MEASURES OF CENTRAL TENDANCIES\n",
    "\n",
    "we can get all numerical columns that have mising value and decide which measure we will use to fill in the mising data"
   ]
  },
  {
   "cell_type": "code",
   "execution_count": 33,
   "id": "94c84d04-d9d8-4d30-b76d-ffbedf0855af",
   "metadata": {},
   "outputs": [
    {
     "data": {
      "text/html": [
       "<div>\n",
       "<style scoped>\n",
       "    .dataframe tbody tr th:only-of-type {\n",
       "        vertical-align: middle;\n",
       "    }\n",
       "\n",
       "    .dataframe tbody tr th {\n",
       "        vertical-align: top;\n",
       "    }\n",
       "\n",
       "    .dataframe thead th {\n",
       "        text-align: right;\n",
       "    }\n",
       "</style>\n",
       "<table border=\"1\" class=\"dataframe\">\n",
       "  <thead>\n",
       "    <tr style=\"text-align: right;\">\n",
       "      <th></th>\n",
       "      <th>Number.of.Engines</th>\n",
       "      <th>Total.Fatal.Injuries</th>\n",
       "      <th>Total.Serious.Injuries</th>\n",
       "      <th>Total.Minor.Injuries</th>\n",
       "      <th>Total.Uninjured</th>\n",
       "    </tr>\n",
       "  </thead>\n",
       "  <tbody>\n",
       "    <tr>\n",
       "      <th>count</th>\n",
       "      <td>82805.000000</td>\n",
       "      <td>77488.000000</td>\n",
       "      <td>76379.000000</td>\n",
       "      <td>76956.000000</td>\n",
       "      <td>82977.000000</td>\n",
       "    </tr>\n",
       "    <tr>\n",
       "      <th>mean</th>\n",
       "      <td>1.146585</td>\n",
       "      <td>0.647855</td>\n",
       "      <td>0.279881</td>\n",
       "      <td>0.357061</td>\n",
       "      <td>5.325440</td>\n",
       "    </tr>\n",
       "    <tr>\n",
       "      <th>std</th>\n",
       "      <td>0.446510</td>\n",
       "      <td>5.485960</td>\n",
       "      <td>1.544084</td>\n",
       "      <td>2.235625</td>\n",
       "      <td>27.913634</td>\n",
       "    </tr>\n",
       "    <tr>\n",
       "      <th>min</th>\n",
       "      <td>0.000000</td>\n",
       "      <td>0.000000</td>\n",
       "      <td>0.000000</td>\n",
       "      <td>0.000000</td>\n",
       "      <td>0.000000</td>\n",
       "    </tr>\n",
       "    <tr>\n",
       "      <th>25%</th>\n",
       "      <td>1.000000</td>\n",
       "      <td>0.000000</td>\n",
       "      <td>0.000000</td>\n",
       "      <td>0.000000</td>\n",
       "      <td>0.000000</td>\n",
       "    </tr>\n",
       "    <tr>\n",
       "      <th>50%</th>\n",
       "      <td>1.000000</td>\n",
       "      <td>0.000000</td>\n",
       "      <td>0.000000</td>\n",
       "      <td>0.000000</td>\n",
       "      <td>1.000000</td>\n",
       "    </tr>\n",
       "    <tr>\n",
       "      <th>75%</th>\n",
       "      <td>1.000000</td>\n",
       "      <td>0.000000</td>\n",
       "      <td>0.000000</td>\n",
       "      <td>0.000000</td>\n",
       "      <td>2.000000</td>\n",
       "    </tr>\n",
       "    <tr>\n",
       "      <th>max</th>\n",
       "      <td>8.000000</td>\n",
       "      <td>349.000000</td>\n",
       "      <td>161.000000</td>\n",
       "      <td>380.000000</td>\n",
       "      <td>699.000000</td>\n",
       "    </tr>\n",
       "  </tbody>\n",
       "</table>\n",
       "</div>"
      ],
      "text/plain": [
       "       Number.of.Engines  Total.Fatal.Injuries  Total.Serious.Injuries  \\\n",
       "count       82805.000000          77488.000000            76379.000000   \n",
       "mean            1.146585              0.647855                0.279881   \n",
       "std             0.446510              5.485960                1.544084   \n",
       "min             0.000000              0.000000                0.000000   \n",
       "25%             1.000000              0.000000                0.000000   \n",
       "50%             1.000000              0.000000                0.000000   \n",
       "75%             1.000000              0.000000                0.000000   \n",
       "max             8.000000            349.000000              161.000000   \n",
       "\n",
       "       Total.Minor.Injuries  Total.Uninjured  \n",
       "count          76956.000000     82977.000000  \n",
       "mean               0.357061         5.325440  \n",
       "std                2.235625        27.913634  \n",
       "min                0.000000         0.000000  \n",
       "25%                0.000000         0.000000  \n",
       "50%                0.000000         1.000000  \n",
       "75%                0.000000         2.000000  \n",
       "max              380.000000       699.000000  "
      ]
     },
     "execution_count": 33,
     "metadata": {},
     "output_type": "execute_result"
    }
   ],
   "source": [
    "df.describe()"
   ]
  },
  {
   "cell_type": "markdown",
   "id": "e62c059e-befc-49f3-a32b-dfcd6ddcbe67",
   "metadata": {},
   "source": [
    "From the above cell we can see that Number.of.Engines,Total.Fatal.Injuries,Total.Serious.Injuries,Total.Minor.Injuries,Total.Uninjured are all numericall values we can attain mesures of central tendancies and fill in there missing data if missing.\n",
    "First we will look at all the missing data from the above the columns"
   ]
  },
  {
   "cell_type": "code",
   "execution_count": 35,
   "id": "fbb08aea-6783-44fc-90cd-c90c009caa6a",
   "metadata": {},
   "outputs": [
    {
     "data": {
      "text/plain": [
       "Number.of.Engines          6084\n",
       "Total.Fatal.Injuries      11401\n",
       "Total.Serious.Injuries    12510\n",
       "Total.Minor.Injuries      11933\n",
       "Total.Uninjured            5912\n",
       "dtype: int64"
      ]
     },
     "execution_count": 35,
     "metadata": {},
     "output_type": "execute_result"
    }
   ],
   "source": [
    "df[['Number.of.Engines','Total.Fatal.Injuries','Total.Serious.Injuries','Total.Minor.Injuries','Total.Uninjured']].isna().sum()"
   ]
  },
  {
   "cell_type": "markdown",
   "id": "57a6303f-30b8-40ae-9cf9-b180438d8143",
   "metadata": {},
   "source": [
    "Start with Number of engines column"
   ]
  },
  {
   "cell_type": "code",
   "execution_count": 37,
   "id": "41aac25f-ca0d-46af-9533-61436c322703",
   "metadata": {},
   "outputs": [
    {
     "name": "stdout",
     "output_type": "stream",
     "text": [
      "mean = 1.1465853511261397\n",
      "median = 1.0\n",
      "mode = 0    1.0\n",
      "Name: Number.of.Engines, dtype: float64\n"
     ]
    }
   ],
   "source": [
    "mean1 = df['Number.of.Engines'].mean()\n",
    "median1 = df['Number.of.Engines'].median()\n",
    "mode1 = df['Number.of.Engines'].mode()\n",
    "\n",
    "print(f'mean = {mean1}\\nmedian = {median1}\\nmode = {mode1}')"
   ]
  },
  {
   "cell_type": "markdown",
   "id": "a3aaeff7-4b37-47e7-ae2f-79b69d801675",
   "metadata": {},
   "source": [
    "Scince all the measures are around 1 we can fill it with the median because engines need whole values"
   ]
  },
  {
   "cell_type": "code",
   "execution_count": 39,
   "id": "edd75a7d-2f28-4b51-b1b9-274343e29cd5",
   "metadata": {},
   "outputs": [
    {
     "data": {
      "text/plain": [
       "0"
      ]
     },
     "execution_count": 39,
     "metadata": {},
     "output_type": "execute_result"
    }
   ],
   "source": [
    "#Fillling all the missing values i nmber of engines columns with the median\n",
    "df['Number.of.Engines'] = df['Number.of.Engines'].fillna(df['Number.of.Engines'].median())\n",
    "df['Number.of.Engines'].isna().sum()"
   ]
  },
  {
   "cell_type": "markdown",
   "id": "3e980fec-7da0-4db5-8aef-f953b0166dec",
   "metadata": {},
   "source": [
    "With that done we can repeat the same for the ret of the numerical columns with missing data\n",
    "\n",
    "TOTAL FATAL INJURIES"
   ]
  },
  {
   "cell_type": "code",
   "execution_count": 41,
   "id": "4cfbee9f-c5dc-446c-803f-992fad835887",
   "metadata": {},
   "outputs": [
    {
     "name": "stdout",
     "output_type": "stream",
     "text": [
      "mean = 0.6478551517654346\n",
      "median = 0.0\n",
      "mode = 0    0.0\n",
      "Name: Total.Fatal.Injuries, dtype: float64\n"
     ]
    }
   ],
   "source": [
    "#Gettig their mesures of central tendancies\n",
    "mean2 = df['Total.Fatal.Injuries'].mean()\n",
    "median2 = df['Total.Fatal.Injuries'].median()\n",
    "mode2 = df['Total.Fatal.Injuries'].mode()\n",
    "\n",
    "print(f'mean = {mean2}\\nmedian = {median2}\\nmode = {mode2}')"
   ]
  },
  {
   "cell_type": "code",
   "execution_count": 42,
   "id": "2a7ff4a2-ac15-4c7f-ba5c-f201e7b23b84",
   "metadata": {},
   "outputs": [
    {
     "data": {
      "text/plain": [
       "0"
      ]
     },
     "execution_count": 42,
     "metadata": {},
     "output_type": "execute_result"
    }
   ],
   "source": [
    "#Filling it with the median again\n",
    "df['Total.Fatal.Injuries'] = df['Total.Fatal.Injuries'].fillna(df['Total.Fatal.Injuries'].median())\n",
    "df['Total.Fatal.Injuries'].isna().sum()"
   ]
  },
  {
   "cell_type": "markdown",
   "id": "d8811dc2-3aec-45cd-be23-9e2e4beb495c",
   "metadata": {},
   "source": [
    "TOTAL SERIOUS INJURIES"
   ]
  },
  {
   "cell_type": "code",
   "execution_count": 44,
   "id": "d8610705-5389-49f4-996e-8c4e7ccaf093",
   "metadata": {},
   "outputs": [
    {
     "name": "stdout",
     "output_type": "stream",
     "text": [
      "mean = 0.27988059545162935\n",
      "median = 0.0\n",
      "mode = 0    0.0\n",
      "Name: Total.Serious.Injuries, dtype: float64\n"
     ]
    }
   ],
   "source": [
    "#Gettig their mesures of central tendancies\n",
    "mean3 = df['Total.Serious.Injuries'].mean()\n",
    "median3 = df['Total.Serious.Injuries'].median()\n",
    "mode3 = df['Total.Serious.Injuries'].mode()\n",
    "\n",
    "print(f'mean = {mean3}\\nmedian = {median3}\\nmode = {mode3}')"
   ]
  },
  {
   "cell_type": "code",
   "execution_count": 45,
   "id": "1f466f0f-472d-42a7-8313-7fdb04bde8a5",
   "metadata": {},
   "outputs": [
    {
     "data": {
      "text/plain": [
       "0"
      ]
     },
     "execution_count": 45,
     "metadata": {},
     "output_type": "execute_result"
    }
   ],
   "source": [
    "#Filling it with the median again\n",
    "df['Total.Serious.Injuries'] = df['Total.Serious.Injuries'].fillna(df['Total.Serious.Injuries'].median())\n",
    "df['Total.Serious.Injuries'].isna().sum()"
   ]
  },
  {
   "cell_type": "markdown",
   "id": "7538335c-e1d4-4c4a-b824-2ba94c9b23c4",
   "metadata": {},
   "source": [
    "TOTAL MINOR INURIES"
   ]
  },
  {
   "cell_type": "code",
   "execution_count": 47,
   "id": "5bdcb2f0-a7d5-430b-80d9-73befeeb1c9e",
   "metadata": {},
   "outputs": [
    {
     "name": "stdout",
     "output_type": "stream",
     "text": [
      "mean = 0.3570611778158948\n",
      "median = 0.0\n",
      "mode = 0    0.0\n",
      "Name: Total.Minor.Injuries, dtype: float64\n"
     ]
    }
   ],
   "source": [
    "#Gettig their mesures of central tendancies\n",
    "mean4 = df['Total.Minor.Injuries'].mean()\n",
    "median4 = df['Total.Minor.Injuries'].median()\n",
    "mode4 = df['Total.Minor.Injuries'].mode()\n",
    "\n",
    "print(f'mean = {mean4}\\nmedian = {median4}\\nmode = {mode4}')"
   ]
  },
  {
   "cell_type": "code",
   "execution_count": 48,
   "id": "064df13f-facd-4417-ae62-7be9fc3b8ac2",
   "metadata": {},
   "outputs": [
    {
     "data": {
      "text/plain": [
       "0"
      ]
     },
     "execution_count": 48,
     "metadata": {},
     "output_type": "execute_result"
    }
   ],
   "source": [
    "#Filling it with the median again\n",
    "df['Total.Minor.Injuries'] = df['Total.Minor.Injuries'].fillna(df['Total.Minor.Injuries'].median())\n",
    "df['Total.Minor.Injuries'].isna().sum()"
   ]
  },
  {
   "cell_type": "markdown",
   "id": "f491e283-f15d-4a56-80d7-ef4accffb0b6",
   "metadata": {},
   "source": [
    "TOTAL UNINJURED"
   ]
  },
  {
   "cell_type": "code",
   "execution_count": 50,
   "id": "2733bef9-4719-476e-9516-ef0a14294575",
   "metadata": {},
   "outputs": [
    {
     "name": "stdout",
     "output_type": "stream",
     "text": [
      "mean = 5.325439579642552\n",
      "median = 1.0\n",
      "mode = 0    0.0\n",
      "Name: Total.Uninjured, dtype: float64\n"
     ]
    }
   ],
   "source": [
    "#Gettig their mesures of central tendancies\n",
    "mean5 = df['Total.Uninjured'].mean()\n",
    "median5 = df['Total.Uninjured'].median()\n",
    "mode5 = df['Total.Uninjured'].mode()\n",
    "\n",
    "print(f'mean = {mean5}\\nmedian = {median5}\\nmode = {mode5}')"
   ]
  },
  {
   "cell_type": "markdown",
   "id": "fd6b672e-61d6-4806-b580-bf04040b12ec",
   "metadata": {},
   "source": [
    "For this since the mean and the median are quite far apart a distribution histograpgh would give better insight on the number of unharmed passengers"
   ]
  },
  {
   "cell_type": "code",
   "execution_count": 52,
   "id": "96e75878-8f85-44b8-8770-9b98d7703e6a",
   "metadata": {},
   "outputs": [
    {
     "data": {
      "image/png": "[encoded data removed]",
      "text/plain": [
       "<Figure size 800x600 with 1 Axes>"
      ]
     },
     "metadata": {},
     "output_type": "display_data"
    }
   ],
   "source": [
    "plt.figure(figsize = (8,6))\n",
    "\n",
    "sns.histplot(df['Total.Uninjured'], bins = 5)\n",
    "plt.title('DISTRIUTION OF TOTAL UNINJURED PASSENGERS', fontweight = 'bold')\n",
    "\n",
    "plt.show()"
   ]
  },
  {
   "cell_type": "markdown",
   "id": "fc0d1a4c-7f7d-48c8-87ca-3a5223215a17",
   "metadata": {},
   "source": [
    "From the visualization above the best way we can fiil the missing values is by using the median again"
   ]
  },
  {
   "cell_type": "code",
   "execution_count": 54,
   "id": "f5c06211-bbe8-49ea-8c97-b3482a221d7c",
   "metadata": {},
   "outputs": [
    {
     "data": {
      "text/plain": [
       "0"
      ]
     },
     "execution_count": 54,
     "metadata": {},
     "output_type": "execute_result"
    }
   ],
   "source": [
    "#Filling it with the median again\n",
    "df['Total.Uninjured'] = df['Total.Uninjured'].fillna(df['Total.Uninjured'].median())\n",
    "df['Total.Uninjured'].isna().sum()"
   ]
  },
  {
   "cell_type": "markdown",
   "id": "fc4808c4-acdc-4a88-ac68-f774fed8e653",
   "metadata": {},
   "source": [
    "Now we ca confirm the number of columns left with missing data"
   ]
  },
  {
   "cell_type": "code",
   "execution_count": 56,
   "id": "816a968e-c044-4880-a41e-1b25823946a8",
   "metadata": {},
   "outputs": [
    {
     "data": {
      "text/plain": [
       "Event.Id                      0\n",
       "Investigation.Type            0\n",
       "Accident.Number               0\n",
       "Event.Date                    0\n",
       "Location                     52\n",
       "Country                     226\n",
       "Injury.Severity            1000\n",
       "Aircraft.damage            3194\n",
       "Make                         63\n",
       "Model                        92\n",
       "Amateur.Built               102\n",
       "Number.of.Engines             0\n",
       "Engine.Type                7096\n",
       "Total.Fatal.Injuries          0\n",
       "Total.Serious.Injuries        0\n",
       "Total.Minor.Injuries          0\n",
       "Total.Uninjured               0\n",
       "Broad.phase.of.flight     27165\n",
       "Publication.Date          13771\n",
       "dtype: int64"
      ]
     },
     "execution_count": 56,
     "metadata": {},
     "output_type": "execute_result"
    }
   ],
   "source": [
    "df.isna().sum()"
   ]
  },
  {
   "cell_type": "code",
   "execution_count": 57,
   "id": "43697ffe-7d1d-4fc4-a061-7bdd4fd0fd09",
   "metadata": {},
   "outputs": [
    {
     "data": {
      "text/plain": [
       "Event.Id                      0\n",
       "Investigation.Type            0\n",
       "Accident.Number               0\n",
       "Event.Date                    0\n",
       "Location                     52\n",
       "Country                     226\n",
       "Aircraft.damage            3194\n",
       "Make                         63\n",
       "Model                        92\n",
       "Amateur.Built               102\n",
       "Number.of.Engines             0\n",
       "Engine.Type                7096\n",
       "Total.Fatal.Injuries          0\n",
       "Total.Serious.Injuries        0\n",
       "Total.Minor.Injuries          0\n",
       "Total.Uninjured               0\n",
       "Broad.phase.of.flight     27165\n",
       "dtype: int64"
      ]
     },
     "execution_count": 57,
     "metadata": {},
     "output_type": "execute_result"
    }
   ],
   "source": [
    "df = df.drop(columns = ['Injury.Severity', 'Publication.Date'])\n",
    "df.isna().sum()"
   ]
  },
  {
   "cell_type": "markdown",
   "id": "c6c3c7b3-7625-44ae-b8e6-b40bfbb0ffbf",
   "metadata": {},
   "source": [
    "After droping more columns that wont be needed we can take a closer look at the remaining columns and decide if we want to drop rows or fill them scince they are categorical we can either ecide to fill the missing data by:\n",
    "- Filling it with the value above\n",
    "- Filling with the value below\n",
    "- Filling it with the modal categorical value"
   ]
  },
  {
   "cell_type": "markdown",
   "id": "d984d4ce-c588-42b2-b7cd-e14e84c77a5b",
   "metadata": {},
   "source": [
    "Filling Aircraft damage missing values"
   ]
  },
  {
   "cell_type": "code",
   "execution_count": 89,
   "id": "3ba88851-da32-4bd9-a741-6f54e8a33355",
   "metadata": {},
   "outputs": [
    {
     "data": {
      "text/plain": [
       "Aircraft.damage\n",
       "Substantial    64148\n",
       "Destroyed      18623\n",
       "Minor           2805\n",
       "Unknown          119\n",
       "Name: count, dtype: int64"
      ]
     },
     "execution_count": 89,
     "metadata": {},
     "output_type": "execute_result"
    }
   ],
   "source": [
    "#First find how the value counts are distributed\n",
    "df['Aircraft.damage'].value_counts()"
   ]
  },
  {
   "cell_type": "markdown",
   "id": "d9e698a8-d5cd-4cf6-b44a-033d9d9045f2",
   "metadata": {},
   "source": [
    "We can fill the missing values with unknown."
   ]
  },
  {
   "cell_type": "code",
   "execution_count": 94,
   "id": "568230ae-55f3-4dd1-af05-9c6308522ede",
   "metadata": {},
   "outputs": [
    {
     "data": {
      "text/plain": [
       "0"
      ]
     },
     "execution_count": 94,
     "metadata": {},
     "output_type": "execute_result"
    }
   ],
   "source": [
    "df['Aircraft.damage'] = df['Aircraft.damage'].fillna('Unknown')\n",
    "#Check if there are still null values in that column\n",
    "df['Aircraft.damage'].isna().sum()"
   ]
  },
  {
   "cell_type": "markdown",
   "id": "4a37c208-9ade-4d2a-9e79-2a363f797ed7",
   "metadata": {},
   "source": [
    "Filling in the null values in the country column"
   ]
  },
  {
   "cell_type": "code",
   "execution_count": 102,
   "id": "ac0f1afc-ba41-443b-bfed-90d811b8d8ae",
   "metadata": {},
   "outputs": [
    {
     "data": {
      "text/plain": [
       "Country\n",
       "United States                       82474\n",
       "Brazil                                374\n",
       "Canada                                359\n",
       "Mexico                                358\n",
       "United Kingdom                        344\n",
       "                                    ...  \n",
       "Seychelles                              1\n",
       "Palau                                   1\n",
       "Libya                                   1\n",
       "Saint Vincent and the Grenadines        1\n",
       "Turks and Caicos Islands                1\n",
       "Name: count, Length: 219, dtype: int64"
      ]
     },
     "execution_count": 102,
     "metadata": {},
     "output_type": "execute_result"
    }
   ],
   "source": [
    "#First check for the value counts to see its distribution\n",
    "df['Country'].value_counts()"
   ]
  },
  {
   "cell_type": "markdown",
   "id": "f59bcd24-f9a2-4f23-984b-abf799cc1a4c",
   "metadata": {},
   "source": [
    "Scince there are only 226 null values we can fill it with UNited States scince it has more than 90% of the data so it won't affect the the distribution that much"
   ]
  },
  {
   "cell_type": "code",
   "execution_count": 104,
   "id": "7700982e-2791-4a5f-85c9-b02628005354",
   "metadata": {},
   "outputs": [
    {
     "data": {
      "text/plain": [
       "0"
      ]
     },
     "execution_count": 104,
     "metadata": {},
     "output_type": "execute_result"
    }
   ],
   "source": [
    "#Fill null values with United States\n",
    "df['Country'] = df['Country'].fillna('United States')\n",
    "#check if it still has null values\n",
    "df['Country'].isna().sum()"
   ]
  },
  {
   "cell_type": "markdown",
   "id": "fadcea05-7ff9-4433-9b95-81b5488f40ef",
   "metadata": {},
   "source": [
    "FILLING THE LOCATION COLUMN"
   ]
  },
  {
   "cell_type": "code",
   "execution_count": 112,
   "id": "8cc312b8-a089-4f4f-93e9-53fc913165b9",
   "metadata": {},
   "outputs": [
    {
     "data": {
      "text/plain": [
       "Location\n",
       "ANCHORAGE, AK           436\n",
       "MIAMI, FL               200\n",
       "ALBUQUERQUE, NM         196\n",
       "HOUSTON, TX             193\n",
       "CHICAGO, IL             184\n",
       "                       ... \n",
       "SAINT GIRONS, FRANCE      1\n",
       "TRENTON, TN               1\n",
       "Eagleville, CA            1\n",
       "LOP BURI, THAILAND        1\n",
       "Brasnorte,                1\n",
       "Name: count, Length: 27758, dtype: int64"
      ]
     },
     "execution_count": 112,
     "metadata": {},
     "output_type": "execute_result"
    }
   ],
   "source": [
    "#First the value counts of the locatiion\n",
    "df['Location'].value_counts()"
   ]
  },
  {
   "cell_type": "markdown",
   "id": "d9d72085-3054-4bec-ac47-119dbbeb5159",
   "metadata": {},
   "source": [
    "Well since the locaton are widely distributed we can fill the null values using the values above it. We can use the '.ffill()' method which stands for 'Foward Fill'"
   ]
  },
  {
   "cell_type": "code",
   "execution_count": 114,
   "id": "1ebd5d90-b547-45d5-a2b4-90ac9711b048",
   "metadata": {},
   "outputs": [
    {
     "data": {
      "text/plain": [
       "0"
      ]
     },
     "execution_count": 114,
     "metadata": {},
     "output_type": "execute_result"
    }
   ],
   "source": [
    "#Fill null with the value above it and check its null count\n",
    "df['Location'] = df['Location'].ffill()\n",
    "df['Location'].isna().sum()"
   ]
  },
  {
   "cell_type": "code",
   "execution_count": 116,
   "id": "1d2fadbe-2ef9-4a76-808c-0480a73d5583",
   "metadata": {},
   "outputs": [
    {
     "data": {
      "text/plain": [
       "Event.Id                      0\n",
       "Investigation.Type            0\n",
       "Accident.Number               0\n",
       "Event.Date                    0\n",
       "Location                      0\n",
       "Country                       0\n",
       "Aircraft.damage               0\n",
       "Make                         63\n",
       "Model                        92\n",
       "Amateur.Built               102\n",
       "Number.of.Engines             0\n",
       "Engine.Type                7096\n",
       "Total.Fatal.Injuries          0\n",
       "Total.Serious.Injuries        0\n",
       "Total.Minor.Injuries          0\n",
       "Total.Uninjured               0\n",
       "Broad.phase.of.flight     27165\n",
       "dtype: int64"
      ]
     },
     "execution_count": 116,
     "metadata": {},
     "output_type": "execute_result"
    }
   ],
   "source": [
    "#Confirm how many missing values are still there\n",
    "df.isna().sum()"
   ]
  },
  {
   "cell_type": "markdown",
   "id": "46d5783c-e876-43e9-934b-d1065139af2c",
   "metadata": {},
   "source": [
    "For the Make, Model and Amature built we can use either the '.ffill()' or '.bfill()' for filling in null value depending o how the distruibution is\n"
   ]
  },
  {
   "cell_type": "code",
   "execution_count": 125,
   "id": "9e7d4efd-1419-4d7c-8004-b7046e085d12",
   "metadata": {},
   "outputs": [
    {
     "data": {
      "text/plain": [
       "Make\n",
       "Cessna             22227\n",
       "Piper              12029\n",
       "CESSNA              4922\n",
       "Beech               4330\n",
       "PIPER               2841\n",
       "                   ...  \n",
       "Leonard Walters        1\n",
       "Maule Air Inc.         1\n",
       "Motley Vans            1\n",
       "Perlick                1\n",
       "ROYSE RALPH L          1\n",
       "Name: count, Length: 8237, dtype: int64"
      ]
     },
     "execution_count": 125,
     "metadata": {},
     "output_type": "execute_result"
    }
   ],
   "source": [
    "df['Make'].value_counts()"
   ]
  },
  {
   "cell_type": "code",
   "execution_count": 127,
   "id": "bddf84d7-e3a8-408b-9b9d-d7e81def1d5c",
   "metadata": {},
   "outputs": [
    {
     "data": {
      "text/plain": [
       "0"
      ]
     },
     "execution_count": 127,
     "metadata": {},
     "output_type": "execute_result"
    }
   ],
   "source": [
    "#For this we can fill the uisng .ffill() and confirm all the missing data is filled\n",
    "df['Make'] = df['Make'].ffill()\n",
    "df['Make'].isna().sum()"
   ]
  },
  {
   "cell_type": "code",
   "execution_count": 129,
   "id": "311c5699-5721-4e21-94a4-def6ba3dfeaa",
   "metadata": {},
   "outputs": [
    {
     "data": {
      "text/plain": [
       "Model\n",
       "152              2367\n",
       "172              1756\n",
       "172N             1164\n",
       "PA-28-140         932\n",
       "150               829\n",
       "                 ... \n",
       "GC-1-A              1\n",
       "737-3S3             1\n",
       "MBB-BK117-B2        1\n",
       "GLASSAIR GL25       1\n",
       "M-8 EAGLE           1\n",
       "Name: count, Length: 12318, dtype: int64"
      ]
     },
     "execution_count": 129,
     "metadata": {},
     "output_type": "execute_result"
    }
   ],
   "source": [
    "df['Model'].value_counts()"
   ]
  },
  {
   "cell_type": "code",
   "execution_count": 131,
   "id": "0898e6c7-de17-4a8d-900c-7f1388cec0a2",
   "metadata": {},
   "outputs": [
    {
     "data": {
      "text/plain": [
       "0"
      ]
     },
     "execution_count": 131,
     "metadata": {},
     "output_type": "execute_result"
    }
   ],
   "source": [
    "#useing bfill to fill null values with the data value below the missing value and confirmin all data is filled\n",
    "df['Model'] = df['Model'].bfill()\n",
    "df['Model'].isna().sum()"
   ]
  },
  {
   "cell_type": "code",
   "execution_count": 133,
   "id": "6fb01ee9-2000-4a64-82e1-5e5b6dc19cce",
   "metadata": {},
   "outputs": [
    {
     "data": {
      "text/plain": [
       "Amateur.Built\n",
       "No     80312\n",
       "Yes     8475\n",
       "Name: count, dtype: int64"
      ]
     },
     "execution_count": 133,
     "metadata": {},
     "output_type": "execute_result"
    }
   ],
   "source": [
    "#filling amaturebild column\n",
    "df['Amateur.Built'].value_counts()"
   ]
  },
  {
   "cell_type": "code",
   "execution_count": 137,
   "id": "d68cf0f0-25a1-4d2b-b3c7-36673e8391d0",
   "metadata": {},
   "outputs": [
    {
     "data": {
      "text/plain": [
       "0"
      ]
     },
     "execution_count": 137,
     "metadata": {},
     "output_type": "execute_result"
    }
   ],
   "source": [
    "#Scince No appears difinitively more times than yes best approach is to fill\n",
    "#null values with 'No'\n",
    "df['Amateur.Built'] = df['Amateur.Built'].fillna('No')\n",
    "df['Amateur.Built'].isna().sum()"
   ]
  },
  {
   "cell_type": "code",
   "execution_count": 139,
   "id": "eb0bd427-e265-4e84-bcb3-2a343cb0dfca",
   "metadata": {},
   "outputs": [
    {
     "data": {
      "text/plain": [
       "Event.Id                      0\n",
       "Investigation.Type            0\n",
       "Accident.Number               0\n",
       "Event.Date                    0\n",
       "Location                      0\n",
       "Country                       0\n",
       "Aircraft.damage               0\n",
       "Make                          0\n",
       "Model                         0\n",
       "Amateur.Built                 0\n",
       "Number.of.Engines             0\n",
       "Engine.Type                7096\n",
       "Total.Fatal.Injuries          0\n",
       "Total.Serious.Injuries        0\n",
       "Total.Minor.Injuries          0\n",
       "Total.Uninjured               0\n",
       "Broad.phase.of.flight     27165\n",
       "dtype: int64"
      ]
     },
     "execution_count": 139,
     "metadata": {},
     "output_type": "execute_result"
    }
   ],
   "source": [
    "df.isna().sum()"
   ]
  },
  {
   "cell_type": "code",
   "execution_count": 141,
   "id": "b3e15282-21a8-41ba-aff9-e679c421d41f",
   "metadata": {},
   "outputs": [
    {
     "data": {
      "text/plain": [
       "Engine.Type\n",
       "Reciprocating      69530\n",
       "Turbo Shaft         3609\n",
       "Turbo Prop          3391\n",
       "Turbo Fan           2481\n",
       "Unknown             2051\n",
       "Turbo Jet            703\n",
       "Geared Turbofan       12\n",
       "Electric              10\n",
       "LR                     2\n",
       "NONE                   2\n",
       "Hybrid Rocket          1\n",
       "UNK                    1\n",
       "Name: count, dtype: int64"
      ]
     },
     "execution_count": 141,
     "metadata": {},
     "output_type": "execute_result"
    }
   ],
   "source": [
    "df['Engine.Type'].value_counts()"
   ]
  },
  {
   "cell_type": "code",
   "execution_count": 143,
   "id": "27fa3abd-4817-4fc3-8c3e-d76f8c150363",
   "metadata": {},
   "outputs": [
    {
     "data": {
      "text/plain": [
       "121"
      ]
     },
     "execution_count": 143,
     "metadata": {},
     "output_type": "execute_result"
    }
   ],
   "source": [
    "#Fill missing values in Engine Type column using .bfill method\n",
    "df['Engine.Type'] = df['Engine.Type'].bfill()\n",
    "df['Engine.Type'].isna().sum()"
   ]
  },
  {
   "cell_type": "code",
   "execution_count": 147,
   "id": "4f52d7c8-3cec-4306-92cf-a3fd6308ccd9",
   "metadata": {},
   "outputs": [
    {
     "data": {
      "text/plain": [
       "0"
      ]
     },
     "execution_count": 147,
     "metadata": {},
     "output_type": "execute_result"
    }
   ],
   "source": [
    "#Scince there are still 121 missing values, this might imply that there were empty values back to back\n",
    "#repeating the code in the above cell using ffiill wi solve the issue\n",
    "df['Engine.Type'] = df['Engine.Type'].ffill()\n",
    "df['Engine.Type'].isna().sum()"
   ]
  },
  {
   "cell_type": "code",
   "execution_count": 149,
   "id": "02f25afb-7d5d-4e1d-997f-ee23ea36069f",
   "metadata": {},
   "outputs": [
    {
     "data": {
      "text/plain": [
       "Event.Id                      0\n",
       "Investigation.Type            0\n",
       "Accident.Number               0\n",
       "Event.Date                    0\n",
       "Location                      0\n",
       "Country                       0\n",
       "Aircraft.damage               0\n",
       "Make                          0\n",
       "Model                         0\n",
       "Amateur.Built                 0\n",
       "Number.of.Engines             0\n",
       "Engine.Type                   0\n",
       "Total.Fatal.Injuries          0\n",
       "Total.Serious.Injuries        0\n",
       "Total.Minor.Injuries          0\n",
       "Total.Uninjured               0\n",
       "Broad.phase.of.flight     27165\n",
       "dtype: int64"
      ]
     },
     "execution_count": 149,
     "metadata": {},
     "output_type": "execute_result"
    }
   ],
   "source": [
    "df.isna().sum()"
   ]
  },
  {
   "cell_type": "markdown",
   "id": "3bd90edc-a220-4be8-b3ef-eca0924d283b",
   "metadata": {},
   "source": [
    "We can drop the column Broad.phase.of.flight because the amount of missing values is substantial"
   ]
  },
  {
   "cell_type": "code",
   "execution_count": 152,
   "id": "8a4566a4-4341-4bf8-8440-2fd8fa7190ec",
   "metadata": {},
   "outputs": [
    {
     "data": {
      "text/plain": [
       "(88889, 16)"
      ]
     },
     "execution_count": 152,
     "metadata": {},
     "output_type": "execute_result"
    }
   ],
   "source": [
    "df = df.drop(columns = ['Broad.phase.of.flight'])\n",
    "df.shape"
   ]
  },
  {
   "cell_type": "code",
   "execution_count": 154,
   "id": "1e3d63d9-c315-43f2-a65b-ea980fa1fa09",
   "metadata": {},
   "outputs": [
    {
     "data": {
      "text/plain": [
       "Event.Id                  0\n",
       "Investigation.Type        0\n",
       "Accident.Number           0\n",
       "Event.Date                0\n",
       "Location                  0\n",
       "Country                   0\n",
       "Aircraft.damage           0\n",
       "Make                      0\n",
       "Model                     0\n",
       "Amateur.Built             0\n",
       "Number.of.Engines         0\n",
       "Engine.Type               0\n",
       "Total.Fatal.Injuries      0\n",
       "Total.Serious.Injuries    0\n",
       "Total.Minor.Injuries      0\n",
       "Total.Uninjured           0\n",
       "dtype: int64"
      ]
     },
     "execution_count": 154,
     "metadata": {},
     "output_type": "execute_result"
    }
   ],
   "source": [
    "#We can check if our data frame has got any missing data now\n",
    "df.isna().sum()"
   ]
  },
  {
   "cell_type": "markdown",
   "id": "2948f951-02c5-4018-8c83-3da3352c8413",
   "metadata": {},
   "source": [
    "Since we have filled all the data and drop all unwanted columns and rows, we can now tidy up our dataframe.\n",
    "\n",
    "For example in the column Make there was __Cessna__ and __CESSNA__. we can make sure that no single item was entered as 2 diffrent items\n",
    "through out the data frame"
   ]
  },
  {
   "cell_type": "code",
   "execution_count": 158,
   "id": "9988e896-d8b3-42cd-b992-00e33dab147b",
   "metadata": {},
   "outputs": [
    {
     "data": {
      "text/plain": [
       "Make\n",
       "Cessna             22232\n",
       "Piper              12034\n",
       "CESSNA              4930\n",
       "Beech               4332\n",
       "PIPER               2843\n",
       "                   ...  \n",
       "Leonard Walters        1\n",
       "Maule Air Inc.         1\n",
       "Motley Vans            1\n",
       "Perlick                1\n",
       "ROYSE RALPH L          1\n",
       "Name: count, Length: 8237, dtype: int64"
      ]
     },
     "execution_count": 158,
     "metadata": {},
     "output_type": "execute_result"
    }
   ],
   "source": [
    "df['Make'].value_counts()"
   ]
  },
  {
   "cell_type": "code",
   "execution_count": 160,
   "id": "4fcb591b-af7b-450b-8115-398587b6c2a6",
   "metadata": {},
   "outputs": [
    {
     "data": {
      "text/plain": [
       "Index(['Event.Id', 'Investigation.Type', 'Accident.Number', 'Event.Date',\n",
       "       'Location', 'Country', 'Aircraft.damage', 'Make', 'Model',\n",
       "       'Amateur.Built', 'Engine.Type'],\n",
       "      dtype='object')"
      ]
     },
     "execution_count": 160,
     "metadata": {},
     "output_type": "execute_result"
    }
   ],
   "source": [
    "#First select all object columns \n",
    "obj_col = df.select_dtypes(include=['object']).columns\n",
    "obj_col"
   ]
  },
  {
   "cell_type": "code",
   "execution_count": 162,
   "id": "af97dc63-73fe-45ec-8b6f-b01990ad482d",
   "metadata": {},
   "outputs": [
    {
     "data": {
      "text/plain": [
       "Make\n",
       "Cessna           27162\n",
       "Piper            14877\n",
       "Beech             5375\n",
       "Boeing            2749\n",
       "Bell              2724\n",
       "                 ...  \n",
       "Cohen                1\n",
       "Kitchens             1\n",
       "Lutes                1\n",
       "Izatt                1\n",
       "Royse Ralph L        1\n",
       "Name: count, Length: 7587, dtype: int64"
      ]
     },
     "execution_count": 162,
     "metadata": {},
     "output_type": "execute_result"
    }
   ],
   "source": [
    "#Turn the values in the columns into case .title()\n",
    "df[obj_col] = df[obj_col].apply(lambda x: x.str.title().str.strip())\n",
    "#Confirm with the make column that everyhing is corrected\n",
    "df['Make'].value_counts()"
   ]
  },
  {
   "cell_type": "markdown",
   "id": "93dcd0ae-6151-4c20-a7be-3401d7d98605",
   "metadata": {},
   "source": [
    "- we can confirm that all entered data that was not entered wrongly mostly in tearms of case sensitivity has been fixed\n",
    "- The length of make column droped from __8237__ to __7587__"
   ]
  },
  {
   "cell_type": "code",
   "execution_count": 171,
   "id": "15116137-3a7c-4387-8e16-8118b5a8fb53",
   "metadata": {},
   "outputs": [
    {
     "data": {
      "text/plain": [
       "2"
      ]
     },
     "execution_count": 171,
     "metadata": {},
     "output_type": "execute_result"
    }
   ],
   "source": [
    "df.duplicated().sum()"
   ]
  },
  {
   "cell_type": "code",
   "execution_count": 173,
   "id": "f95072f2-c70a-4bc4-92de-00c840826a6e",
   "metadata": {},
   "outputs": [
    {
     "data": {
      "text/html": [
       "<div>\n",
       "<style scoped>\n",
       "    .dataframe tbody tr th:only-of-type {\n",
       "        vertical-align: middle;\n",
       "    }\n",
       "\n",
       "    .dataframe tbody tr th {\n",
       "        vertical-align: top;\n",
       "    }\n",
       "\n",
       "    .dataframe thead th {\n",
       "        text-align: right;\n",
       "    }\n",
       "</style>\n",
       "<table border=\"1\" class=\"dataframe\">\n",
       "  <thead>\n",
       "    <tr style=\"text-align: right;\">\n",
       "      <th></th>\n",
       "      <th>Event.Id</th>\n",
       "      <th>Investigation.Type</th>\n",
       "      <th>Accident.Number</th>\n",
       "      <th>Event.Date</th>\n",
       "      <th>Location</th>\n",
       "      <th>Country</th>\n",
       "      <th>Aircraft.damage</th>\n",
       "      <th>Make</th>\n",
       "      <th>Model</th>\n",
       "      <th>Amateur.Built</th>\n",
       "      <th>Number.of.Engines</th>\n",
       "      <th>Engine.Type</th>\n",
       "      <th>Total.Fatal.Injuries</th>\n",
       "      <th>Total.Serious.Injuries</th>\n",
       "      <th>Total.Minor.Injuries</th>\n",
       "      <th>Total.Uninjured</th>\n",
       "    </tr>\n",
       "  </thead>\n",
       "  <tbody>\n",
       "    <tr>\n",
       "      <th>88387</th>\n",
       "      <td>20220822105776</td>\n",
       "      <td>Accident</td>\n",
       "      <td>Era22La379</td>\n",
       "      <td>2022-08-20</td>\n",
       "      <td>Bealeton, Va</td>\n",
       "      <td>United States</td>\n",
       "      <td>Substantial</td>\n",
       "      <td>Boeing</td>\n",
       "      <td>A75N1</td>\n",
       "      <td>No</td>\n",
       "      <td>1.0</td>\n",
       "      <td>Reciprocating</td>\n",
       "      <td>0.0</td>\n",
       "      <td>2.0</td>\n",
       "      <td>0.0</td>\n",
       "      <td>2.0</td>\n",
       "    </tr>\n",
       "    <tr>\n",
       "      <th>88528</th>\n",
       "      <td>20220921105978</td>\n",
       "      <td>Incident</td>\n",
       "      <td>Dca22Wa204</td>\n",
       "      <td>2022-09-14</td>\n",
       "      <td>Mumbai,</td>\n",
       "      <td>India</td>\n",
       "      <td>Unknown</td>\n",
       "      <td>Boeing</td>\n",
       "      <td>787</td>\n",
       "      <td>No</td>\n",
       "      <td>1.0</td>\n",
       "      <td>Reciprocating</td>\n",
       "      <td>0.0</td>\n",
       "      <td>0.0</td>\n",
       "      <td>0.0</td>\n",
       "      <td>0.0</td>\n",
       "    </tr>\n",
       "  </tbody>\n",
       "</table>\n",
       "</div>"
      ],
      "text/plain": [
       "             Event.Id Investigation.Type Accident.Number  Event.Date  \\\n",
       "88387  20220822105776           Accident      Era22La379  2022-08-20   \n",
       "88528  20220921105978           Incident      Dca22Wa204  2022-09-14   \n",
       "\n",
       "           Location        Country Aircraft.damage    Make  Model  \\\n",
       "88387  Bealeton, Va  United States     Substantial  Boeing  A75N1   \n",
       "88528       Mumbai,          India         Unknown  Boeing    787   \n",
       "\n",
       "      Amateur.Built  Number.of.Engines    Engine.Type  Total.Fatal.Injuries  \\\n",
       "88387            No                1.0  Reciprocating                   0.0   \n",
       "88528            No                1.0  Reciprocating                   0.0   \n",
       "\n",
       "       Total.Serious.Injuries  Total.Minor.Injuries  Total.Uninjured  \n",
       "88387                     2.0                   0.0              2.0  \n",
       "88528                     0.0                   0.0              0.0  "
      ]
     },
     "execution_count": 173,
     "metadata": {},
     "output_type": "execute_result"
    }
   ],
   "source": [
    "#Checking for the duplicated entries\n",
    "df[df.duplicated()]"
   ]
  },
  {
   "cell_type": "code",
   "execution_count": 177,
   "id": "777824d5-bd25-4b99-b801-ae689a695fef",
   "metadata": {},
   "outputs": [
    {
     "data": {
      "text/plain": [
       "0"
      ]
     },
     "execution_count": 177,
     "metadata": {},
     "output_type": "execute_result"
    }
   ],
   "source": [
    "df = df.drop_duplicates()\n",
    "df.duplicated().sum()"
   ]
  },
  {
   "cell_type": "code",
   "execution_count": 179,
   "id": "84a8d11e-572c-4357-8df8-bea2bccd12bf",
   "metadata": {},
   "outputs": [
    {
     "data": {
      "text/plain": [
       "Event.Id                  0\n",
       "Investigation.Type        0\n",
       "Accident.Number           0\n",
       "Event.Date                0\n",
       "Location                  0\n",
       "Country                   0\n",
       "Aircraft.damage           0\n",
       "Make                      0\n",
       "Model                     0\n",
       "Amateur.Built             0\n",
       "Number.of.Engines         0\n",
       "Engine.Type               0\n",
       "Total.Fatal.Injuries      0\n",
       "Total.Serious.Injuries    0\n",
       "Total.Minor.Injuries      0\n",
       "Total.Uninjured           0\n",
       "dtype: int64"
      ]
     },
     "execution_count": 179,
     "metadata": {},
     "output_type": "execute_result"
    }
   ],
   "source": [
    "df.isna().sum()"
   ]
  },
  {
   "cell_type": "code",
   "execution_count": null,
   "id": "c33dbd4b-4a7c-4ed5-b934-9b3aae40e217",
   "metadata": {},
   "outputs": [],
   "source": []
  }
 ],
 "metadata": {
  "kernelspec": {
   "display_name": "Python [conda env:base] *",
   "language": "python",
   "name": "conda-base-py"
  },
  "language_info": {
   "codemirror_mode": {
    "name": "ipython",
    "version": 3
   },
   "file_extension": ".py",
   "mimetype": "text/x-python",
   "name": "python",
   "nbconvert_exporter": "python",
   "pygments_lexer": "ipython3",
   "version": "3.11.7"
  }
 },
 "nbformat": 4,
 "nbformat_minor": 5
}
