{
 "cells": [
  {
   "cell_type": "markdown",
   "id": "32d4862e-7cea-4312-bb4a-f76350532f4e",
   "metadata": {},
   "source": [
    "# END OF PHASE ONE PROJECT"
   ]
  },
  {
   "cell_type": "markdown",
   "id": "ce1f342f-bbcd-4b17-9691-14dcb9e42841",
   "metadata": {},
   "source": [
    "At the end of phase one students are required to do a project and submit it to the TMs.\n",
    "The purpsoe of the project is to:\n",
    "- Gain hands on experience with what I have learned.\n",
    "- Re-enforce the concepts that I have learned.\n",
    "- Learn how to approach real-world data challenges.\n",
    "- Bulding and solidifying basic technical skills required as a data scientist"
   ]
  },
  {
   "cell_type": "markdown",
   "id": "76a3e4be-cf1a-4c71-ab51-693300bd375a",
   "metadata": {},
   "source": [
    "## INVESTIGATING AVIATION ACCIDENT TRENDS AND FACTORS"
   ]
  },
  {
   "cell_type": "markdown",
   "id": "364291ea-a479-4e48-895c-a251e66b9272",
   "metadata": {},
   "source": [
    "![Aviation accidents trend and factors](images/R.jpg)"
   ]
  },
  {
   "cell_type": "markdown",
   "id": "45aa1f44-5cc5-4832-97fc-5fed0d05b2ec",
   "metadata": {},
   "source": [
    "For this project I will be using data set form the NTSB aviation accident database which contains data about civil aviation accidents and selected incidents within the United States, its territories and possessions, and in international waters.\n",
    "\n",
    "\n",
    "\n",
    "## OBJECTIVES\n",
    "I will use the data to:\n",
    "- Investigate accidents trends based on various airlines over time\n",
    "- Try and find the leading cause of aviation accidents\n",
    "- Trends in aviation fatalities over the years\n",
    "- Recomend actions to help mitigate/prevent aviation accidents and incedents"
   ]
  },
  {
   "cell_type": "code",
   "execution_count": null,
   "id": "8e365076-a3de-4b85-a8bd-2b015f266e23",
   "metadata": {},
   "outputs": [],
   "source": []
  }
 ],
 "metadata": {
  "kernelspec": {
   "display_name": "Python [conda env:base] *",
   "language": "python",
   "name": "conda-base-py"
  },
  "language_info": {
   "codemirror_mode": {
    "name": "ipython",
    "version": 3
   },
   "file_extension": ".py",
   "mimetype": "text/x-python",
   "name": "python",
   "nbconvert_exporter": "python",
   "pygments_lexer": "ipython3",
   "version": "3.11.7"
  }
 },
 "nbformat": 4,
 "nbformat_minor": 5
}
